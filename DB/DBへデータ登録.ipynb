{
 "cells": [
  {
   "cell_type": "markdown",
   "metadata": {},
   "source": [
    "# 交通事故のエクセルデータをＤＢへ登録する"
   ]
  },
  {
   "cell_type": "markdown",
   "metadata": {},
   "source": [
    "## 交通事故のオープンデータ\n",
    "\n",
    " - https://ckan.open-governmentdata.org/dataset?q=%E4%BA%A4%E9%80%9A%E4%BA%8B%E6%95%85\n",
    " \n",
    " - \"福岡県　平成●●年　交通事故.xlsx\"をダウンロード\n",
    " \n",
    " - 以下のコードをエクセルのブック名を変更した後に、実行"
   ]
  },
  {
   "cell_type": "code",
   "execution_count": null,
   "metadata": {
    "scrolled": true
   },
   "outputs": [],
   "source": [
    "import sqlite3\n",
    "import pandas as pd\n",
    "\n",
    "print('Start')\n",
    "\n",
    "# 読み込むエクセル\n",
    "EXCEL = '●●.xlsx'\n",
    "\n",
    "# データベースファイルのパス\n",
    "dbpath = 'accident.sqlite'\n",
    " \n",
    "# データベースのレコード数を取得し、ｉｄの初期値とする\n",
    "conn = sqlite3.connect(dbpath)\n",
    "query = \"select count(*) from master;\"\n",
    "id_start = pd.read_sql_query(query, conn).iloc[0][0]\n",
    "\n",
    "print('Read Excel')\n",
    "# エクセルのデータからデータフレームｄｆを生成（ｎａｎは、０とする）\n",
    "df = pd.read_excel(EXCEL)\n",
    "df.fillna(0, inplace=True)\n",
    "\n",
    "# 読み込んだデータフレームｄｆのｉｄを付け替える\n",
    "idx = id_start\n",
    "for i, data in df.iterrows():\n",
    "    df.iloc[[i],[0]] = idx + i\n",
    "\n",
    "print('Write DB')\n",
    "# ｄｆのデータをデータベースに格納\n",
    "# ＤＢ格納では、Pandasは遅いので、sqlite3を使用\n",
    "connection = sqlite3.connect(dbpath)\n",
    "cursor = connection.cursor()\n",
    " \n",
    "try:\n",
    "    for i, data in df.iterrows():\n",
    "        cts = []\n",
    "        for d in data:\n",
    "            cts.append(d)\n",
    "        text = \"INSERT INTO master VALUES \" + str(tuple(cts)) \n",
    "        cursor.execute(text)\n",
    "except sqlite3.Error as e:\n",
    "    print('sqlite3.Error occurred:', e.args[0])\n",
    "\n",
    "connection.commit()\n",
    "\n",
    "print('End')"
   ]
  },
  {
   "cell_type": "code",
   "execution_count": null,
   "metadata": {},
   "outputs": [],
   "source": [
    "conn = sqlite3.connect('accident.sqlite')\n",
    "query = \"select * from master;\"\n",
    "df = pd.read_sql_query(query, conn)\n",
    "\n",
    "df.head()"
   ]
  },
  {
   "cell_type": "code",
   "execution_count": null,
   "metadata": {},
   "outputs": [],
   "source": [
    "df.describe()"
   ]
  },
  {
   "cell_type": "code",
   "execution_count": null,
   "metadata": {},
   "outputs": [],
   "source": [
    "df[df['injury']==27].T"
   ]
  },
  {
   "cell_type": "code",
   "execution_count": null,
   "metadata": {},
   "outputs": [],
   "source": []
  }
 ],
 "metadata": {
  "kernelspec": {
   "display_name": "Python 3",
   "language": "python",
   "name": "python3"
  },
  "language_info": {
   "codemirror_mode": {
    "name": "ipython",
    "version": 3
   },
   "file_extension": ".py",
   "mimetype": "text/x-python",
   "name": "python",
   "nbconvert_exporter": "python",
   "pygments_lexer": "ipython3",
   "version": "3.6.7"
  }
 },
 "nbformat": 4,
 "nbformat_minor": 2
}
